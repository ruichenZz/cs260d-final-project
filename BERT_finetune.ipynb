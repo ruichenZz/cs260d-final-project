{
 "cells": [
  {
   "cell_type": "code",
   "execution_count": 21,
   "metadata": {},
   "outputs": [],
   "source": [
    "import numpy as np\n",
    "import pandas as pd\n",
    "import time\n",
    "import datetime\n",
    "import gc\n",
    "import random\n",
    "import re\n",
    "import os\n",
    "from tqdm import tqdm, tqdm_notebook\n",
    "\n",
    "import torch\n",
    "import torch.nn as nn\n",
    "from torch.utils.data import Dataset, TensorDataset, DataLoader, RandomSampler, SequentialSampler,random_split\n",
    "from sklearn.model_selection import train_test_split\n",
    "from sklearn.metrics import classification_report\n",
    "\n",
    "import transformers\n",
    "from transformers import BertForSequenceClassification, AdamW, BertConfig,BertTokenizer,get_linear_schedule_with_warmup\n"
   ]
  },
  {
   "cell_type": "code",
   "execution_count": 2,
   "metadata": {},
   "outputs": [
    {
     "data": {
      "text/plain": [
       "device(type='cuda', index=0)"
      ]
     },
     "execution_count": 2,
     "metadata": {},
     "output_type": "execute_result"
    }
   ],
   "source": [
    "device = torch.device(\"cuda:0\" if torch.cuda.is_available() else \"cpu\")\n",
    "device"
   ]
  },
  {
   "cell_type": "code",
   "execution_count": 3,
   "metadata": {},
   "outputs": [],
   "source": [
    "MAX_SEQUENCE_LENGTH = 220\n",
    "SEED = 1234\n",
    "EPOCHS = 1\n",
    "Data_dir=\"./jigsaw-dataset\"\n",
    "WORK_DIR = \"../working/\"\n",
    "num_to_load=1000000                         #Train size to match time limit\n",
    "valid_size= 100000                          #Validation Size\n",
    "TOXICITY_COLUMN = 'target'"
   ]
  },
  {
   "cell_type": "code",
   "execution_count": 4,
   "metadata": {},
   "outputs": [],
   "source": [
    "def convert_lines(example, max_seq_length,tokenizer):\n",
    "    max_seq_length -=2\n",
    "    all_tokens = []\n",
    "    longer = 0\n",
    "    for text in tqdm_notebook(example):\n",
    "        tokens_a = tokenizer.tokenize(text)\n",
    "        if len(tokens_a)>max_seq_length:\n",
    "            tokens_a = tokens_a[:max_seq_length]\n",
    "            longer += 1\n",
    "        one_token = tokenizer.convert_tokens_to_ids([\"[CLS]\"]+tokens_a+[\"[SEP]\"])+[0] * (max_seq_length - len(tokens_a))\n",
    "        all_tokens.append(one_token)\n",
    "    print(longer)\n",
    "    return np.array(all_tokens)"
   ]
  },
  {
   "cell_type": "code",
   "execution_count": 6,
   "metadata": {},
   "outputs": [],
   "source": [
    "tokenizer = BertTokenizer.from_pretrained('bert-base-uncased', do_lower_case=True)"
   ]
  },
  {
   "cell_type": "code",
   "execution_count": 16,
   "metadata": {},
   "outputs": [
    {
     "name": "stdout",
     "output_type": "stream",
     "text": [
      "Subset Training set size: 144389\n",
      "Subset Validation set size: 36098\n"
     ]
    }
   ],
   "source": [
    "# Load the training data\n",
    "train = pd.read_csv(os.path.join(Data_dir, \"train.csv\"))\n",
    "\n",
    "# Clean the text data\n",
    "train['comment_text'] = train['comment_text'].replace({r'\\s+$': '', r'^\\s+': ''}, regex=True).replace(r'\\n', ' ', regex=True)\n",
    "\n",
    "# Add class labels (binary: 0 for non-toxic, 1 for toxic)\n",
    "train['label'] = np.where(train['target'] >= 0.5, 1, 0)\n",
    "\n",
    "# Retain only necessary columns\n",
    "train = train[['id', 'comment_text', 'label']]\n",
    "\n",
    "# Sample a 10% subset for demonstration\n",
    "train_subset = train.sample(frac=0.1, random_state=42)\n",
    "\n",
    "# Split into training and validation sets (80/20 split)\n",
    "train_data, val_data = train_test_split(train_subset, test_size=0.2, stratify=train_subset['label'], random_state=42)\n",
    "\n",
    "# Print data stats\n",
    "print(f\"Subset Training set size: {len(train_data)}\")\n",
    "print(f\"Subset Validation set size: {len(val_data)}\")\n",
    "\n",
    "# Save the sampled training and validation sets\n",
    "train_data.to_csv(\"train_subset.csv\", index=False)\n",
    "val_data.to_csv(\"val_subset.csv\", index=False)"
   ]
  },
  {
   "cell_type": "code",
   "execution_count": 18,
   "metadata": {},
   "outputs": [
    {
     "name": "stdout",
     "output_type": "stream",
     "text": [
      "Number of null values after cleaning:\n",
      "Train set: 0\n",
      "Validation set: 0\n"
     ]
    }
   ],
   "source": [
    "# Drop rows with null comment_text\n",
    "train_data = train_data.dropna(subset=['comment_text'])\n",
    "val_data = val_data.dropna(subset=['comment_text'])\n",
    "\n",
    "# Ensure all values are strings\n",
    "train_data['comment_text'] = train_data['comment_text'].astype(str)\n",
    "val_data['comment_text'] = val_data['comment_text'].astype(str)\n",
    "\n",
    "# Check data again\n",
    "print(\"Number of null values after cleaning:\")\n",
    "print(\"Train set:\", train_data['comment_text'].isnull().sum())\n",
    "print(\"Validation set:\", val_data['comment_text'].isnull().sum())\n",
    "\n"
   ]
  },
  {
   "cell_type": "code",
   "execution_count": 19,
   "metadata": {},
   "outputs": [],
   "source": [
    "# Load tokenizer\n",
    "tokenizer = BertTokenizer.from_pretrained(\"bert-base-uncased\")\n",
    "\n",
    "# Tokenize data function\n",
    "def tokenize_data(data, text_column, label_column):\n",
    "    encodings = tokenizer(\n",
    "        list(data[text_column]),\n",
    "        padding=True,\n",
    "        truncation=True,\n",
    "        max_length=128,\n",
    "        return_tensors=\"pt\"\n",
    "    )\n",
    "    labels = data[label_column].values\n",
    "    return encodings, labels\n",
    "\n",
    "# Tokenize training and validation data\n",
    "train_encodings, train_labels = tokenize_data(train_data, \"comment_text\", \"label\")\n",
    "val_encodings, val_labels = tokenize_data(val_data, \"comment_text\", \"label\")\n"
   ]
  },
  {
   "cell_type": "code",
   "execution_count": 25,
   "metadata": {},
   "outputs": [],
   "source": [
    "import torch\n",
    "from torch.utils.data import Dataset, DataLoader\n",
    "\n",
    "class ToxicCommentsDataset(Dataset):\n",
    "    def __init__(self, ids, encodings, labels):\n",
    "        self.ids = ids  # Store ids for reference\n",
    "        self.encodings = encodings\n",
    "        self.labels = labels\n",
    "\n",
    "    def __len__(self):\n",
    "        return len(self.labels)\n",
    "\n",
    "    def __getitem__(self, idx):\n",
    "        # Only return id for reference, not for the model\n",
    "        item = {key: torch.tensor(val[idx]) for key, val in self.encodings.items()}\n",
    "        item['labels'] = torch.tensor(self.labels[idx])  # Add labels for the model\n",
    "        item['id'] = self.ids[idx]  # Keep 'id' for external use only\n",
    "        return item\n",
    "\n",
    "\n",
    "# Create datasets\n",
    "train_dataset = ToxicCommentsDataset(train_data['id'].values, train_encodings, train_labels)\n",
    "val_dataset = ToxicCommentsDataset(val_data['id'].values, val_encodings, val_labels)\n",
    "\n",
    "# Create DataLoaders\n",
    "train_loader = DataLoader(train_dataset, batch_size=16, shuffle=True)\n",
    "val_loader = DataLoader(val_dataset, batch_size=16, shuffle=False)\n"
   ]
  },
  {
   "cell_type": "code",
   "execution_count": null,
   "metadata": {},
   "outputs": [
    {
     "name": "stderr",
     "output_type": "stream",
     "text": [
      "Some weights of BertForSequenceClassification were not initialized from the model checkpoint at bert-base-uncased and are newly initialized: ['classifier.bias', 'classifier.weight']\n",
      "You should probably TRAIN this model on a down-stream task to be able to use it for predictions and inference.\n",
      "/opt/conda/envs/toxic/lib/python3.10/site-packages/transformers/optimization.py:591: FutureWarning: This implementation of AdamW is deprecated and will be removed in a future version. Use the PyTorch implementation torch.optim.AdamW instead, or set `no_deprecation_warning=True` to disable this warning\n",
      "  warnings.warn(\n",
      "Training:   0%|          | 0/9025 [00:00<?, ?it/s]/var/tmp/ipykernel_13783/4115423148.py:15: UserWarning: To copy construct from a tensor, it is recommended to use sourceTensor.clone().detach() or sourceTensor.clone().detach().requires_grad_(True), rather than torch.tensor(sourceTensor).\n",
      "  item = {key: torch.tensor(val[idx]) for key, val in self.encodings.items()}\n"
     ]
    },
    {
     "name": "stdout",
     "output_type": "stream",
     "text": [
      "Epoch 1/1\n"
     ]
    },
    {
     "name": "stderr",
     "output_type": "stream",
     "text": [
      "Training:  22%|██▏       | 2013/9025 [11:35<40:15,  2.90it/s, loss=0.666]  "
     ]
    }
   ],
   "source": [
    "from transformers import BertForSequenceClassification, AdamW, get_scheduler\n",
    "from tqdm import tqdm\n",
    "\n",
    "# Load pre-trained BERT model\n",
    "model = BertForSequenceClassification.from_pretrained(\"bert-base-uncased\", num_labels=2)\n",
    "device = torch.device(\"cuda\") if torch.cuda.is_available() else torch.device(\"cpu\")\n",
    "model.to(device)\n",
    "\n",
    "# Optimizer and learning rate scheduler\n",
    "optimizer = AdamW(model.parameters(),\n",
    "                  lr = 5e-5, # args.learning_rate - default is 5e-5, our notebook had 2e-5\n",
    "                  eps = 1e-8 # args.adam_epsilon  - default is 1e-8.\n",
    "                )\n",
    "num_training_steps = len(train_loader) * 3  # Assuming 3 epochs\n",
    "lr_scheduler = get_scheduler(\"linear\", optimizer=optimizer, num_warmup_steps=0, num_training_steps=num_training_steps)\n",
    "\n",
    "# Training loop\n",
    "epochs = 1\n",
    "model.train()\n",
    "\n",
    "# Training loop\n",
    "for epoch in range(epochs):\n",
    "    print(f\"Epoch {epoch + 1}/{epochs}\")\n",
    "    loop = tqdm(train_loader, desc=\"Training\", leave=True)\n",
    "    for batch in loop:\n",
    "        # Move inputs to the device\n",
    "        batch = {k: v.to(device) for k, v in batch.items() if k != \"id\"}\n",
    "        outputs = model(**batch)\n",
    "        loss = outputs.loss\n",
    "        loss.backward()\n",
    "        optimizer.step()\n",
    "        lr_scheduler.step()\n",
    "        optimizer.zero_grad()\n",
    "        \n",
    "        # Update tqdm with the current loss\n",
    "        loop.set_postfix(loss=loss.item())\n",
    "\n"
   ]
  },
  {
   "cell_type": "code",
   "execution_count": null,
   "metadata": {},
   "outputs": [],
   "source": [
    "from tqdm import tqdm\n",
    "from sklearn.metrics import classification_report\n",
    "\n",
    "# Evaluation loop\n",
    "model.eval()\n",
    "val_predictions, val_true_labels, val_ids = [], [], []  # Include val_ids to track original IDs\n",
    "\n",
    "with torch.no_grad():\n",
    "    loop = tqdm(val_loader, desc=\"Evaluating\", leave=True)\n",
    "    for batch in loop:\n",
    "        # Move inputs to the device, exclude 'id'\n",
    "        batch_inputs = {k: v.to(device) for k, v in batch.items() if k != \"id\"}\n",
    "        outputs = model(**batch_inputs)\n",
    "        logits = outputs.logits\n",
    "        preds = torch.argmax(logits, dim=1)\n",
    "\n",
    "        # Collect predictions, true labels, and IDs\n",
    "        val_predictions.extend(preds.cpu().numpy())\n",
    "        val_true_labels.extend(batch['labels'].cpu().numpy())\n",
    "        val_ids.extend(batch['id'].cpu().numpy())  # Track the original IDs\n",
    "\n",
    "# Generate classification report\n",
    "print(classification_report(val_true_labels, val_predictions, target_names=[\"Non-Toxic\", \"Toxic\"]))\n",
    "\n",
    "# Add predictions and true labels to the validation DataFrame for analysis\n",
    "val_data['id'] = val_ids\n",
    "val_data['true_label'] = val_true_labels\n",
    "val_data['predicted_label'] = val_predictions\n",
    "val_data['predicted_label'] = val_data['predicted_label'].map({0: \"non-toxic\", 1: \"toxic\"})\n",
    "\n",
    "# Save validation results\n",
    "val_data.to_csv(\"val_with_predictions.csv\", index=False)\n",
    "print(\"Validation predictions saved to 'val_with_predictions.csv'.\")\n"
   ]
  },
  {
   "cell_type": "code",
   "execution_count": null,
   "metadata": {},
   "outputs": [],
   "source": []
  }
 ],
 "metadata": {
  "kernelspec": {
   "display_name": "toxic",
   "language": "python",
   "name": "python3"
  },
  "language_info": {
   "codemirror_mode": {
    "name": "ipython",
    "version": 3
   },
   "file_extension": ".py",
   "mimetype": "text/x-python",
   "name": "python",
   "nbconvert_exporter": "python",
   "pygments_lexer": "ipython3",
   "version": "3.10.16"
  }
 },
 "nbformat": 4,
 "nbformat_minor": 2
}
